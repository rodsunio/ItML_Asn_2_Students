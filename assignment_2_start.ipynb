{
 "cells": [
  {
   "cell_type": "code",
   "execution_count": 84,
   "metadata": {},
   "outputs": [],
   "source": [
    "import numpy as np\n",
    "import matplotlib.pyplot as plt\n",
    "import pandas as pd\n",
    "from sklearn.linear_model import LinearRegression\n",
    "from sklearn.preprocessing import PolynomialFeatures\n",
    "from sklearn.linear_model import SGDRegressor\n",
    "import seaborn as sns\n",
    "from sklearn.pipeline import Pipeline\n",
    "from sklearn.metrics import mean_squared_error, r2_score\n",
    "from sklearn.model_selection import train_test_split\n",
    "from sklearn.model_selection import cross_val_score\n",
    "from sklearn.linear_model import Lasso\n",
    "from sklearn.linear_model import Ridge\n",
    "from sklearn.preprocessing import MinMaxScaler, MaxAbsScaler\n",
    "from sklearn.model_selection import GridSearchCV\n",
    "from sklearn.linear_model import SGDRegressor\n",
    "import time\n",
    "from sklearn.ensemble import RandomForestRegressor, RandomForestClassifier\n",
    "from sklearn.feature_selection import RFECV\n",
    "from sklearn.compose import ColumnTransformer\n",
    "from sklearn.impute import SimpleImputer\n",
    "from sklearn.pipeline import Pipeline\n",
    "from sklearn.preprocessing import OneHotEncoder\n",
    "from sklearn.preprocessing import StandardScaler\n",
    "from sklearn.linear_model import LogisticRegression"
   ]
  },
  {
   "cell_type": "markdown",
   "metadata": {},
   "source": [
    "# Assignment 2 - Regression\n",
    "### Predict the TOTAL COMPENSATION for this year. \n",
    "\n",
    "The data file provided is a salary survey for tech workers in Europe. We want to predict the total amount of compensation they bring in each year, based off of the details of their work. \n",
    "\n",
    "Some notes that will be important:\n",
    "<ul>\n",
    "    <li>The total compensation will need to be constructed, there is a column for salary, \"Yearly brutto salary (without bonus and stocks) in EUR\", as well as a column for bonus compensation, \"Yearly bonus + stocks in EUR\". \n",
    "    <li>Some categorical variables will need some work, and there isn't generally an exact answer. The main concern is things with categories that have a bunch of values with a very small count. For example, if there is only 1 person in City X, then that value likely needs to be addressed. We don't want it encoded into a new column of one 1 and thousands of 0s. \n",
    "    <li>There is an article exploring some of the data here: https://www.asdcode.de/2021/01/it-salary-survey-december-2020.html\n",
    "    <li>Imputation and a bit of data manipulation will be required. \n",
    "    <li>Use any regression method you'd like. Some ones are closely related to what we've done, you may want to look at them, e.g. ExtraTreesRegressor. \n",
    "    <li>Initial accurracy, and potentially final accuracy, may not be great. When I made a plain model will little optimization the errors were large and the R2 was low. There is lots of room for optimization. \n",
    "    <li>Research challenge - try some work on the target, look into TransformedTargetRegressor and see if that helps. Recall in stats when we had skewed distributions... Maybe it helps, maybe it doesn't. \n",
    "    <li>EDA and data prep are up to you - you'll probably need to do a little exploring to figure out what cleanup is needed. When I did it, I did things kind of iteratively when I did it. For example, look at the value counts, figure out how to treat the different categories, clean something up, look at the results, potentially repeat if needed. After you figure out what needs to be done, you may be able to take some of those steps and incorporate them into a pipeline to be cleaner....\n",
    "    <li><b>CRITICAL - Please make sure your code runs with RUN ALL. It should load the data that you're given, do all the processing, and spit out results. Comment out or remove anything that you've cleaned up and don't need - e.g. if you scaled a value manually, then moved that into a pipeline, don't leave the original scaling code active when the file is run.</b>\n",
    "</ul>\n",
    "\n",
    "### Details and Deliverables\n",
    "\n",
    "You'll need to build code to produce the predictions. In particular, there's a few things that'll be marked:\n",
    "<ul>\n",
    "    <li>Please add a markdown cell at the bottom, and put in a few notes addressing the following:\n",
    "    <ul>\n",
    "        <li> Accuracy of your models with/without feature selection. Include both train/test for each. Please use R2 and RMSE. \n",
    "        <li> Feature Selection - Please identify what you did for feature selection. No need for a long explaination, something along the lines of \"I did X, and the result was that 4 features were removed\". Try at least 2 things. \n",
    "        <li> Hyperparameter Changes / Grid Search Improvements. What did you try, and why. Similar explaination to above, short. \n",
    "        <li> Overall this section should be roughly as long as this intro block - just outline what the results were, what you did to improve, and the results after. \n",
    "        <li> If you could use titles/bullet points I'd really appreciate it. \n",
    "    </ul>\n",
    "    <li>Grade Breakdown:\n",
    "    <ul>\n",
    "        <li> Code is readable, there are comments: 20%\n",
    "        <li> Explaination as defined above: 60% (20% each point)\n",
    "        <li> Accuracy: 20% As compared to everyone else. This will be generously graded, I won't be surprised if overall accuracy is low for most people. \n",
    "    </ul>\n",
    "</ul>"
   ]
  },
  {
   "cell_type": "code",
   "execution_count": 4,
   "metadata": {},
   "outputs": [
    {
     "data": {
      "text/html": [
       "<div>\n",
       "<style scoped>\n",
       "    .dataframe tbody tr th:only-of-type {\n",
       "        vertical-align: middle;\n",
       "    }\n",
       "\n",
       "    .dataframe tbody tr th {\n",
       "        vertical-align: top;\n",
       "    }\n",
       "\n",
       "    .dataframe thead th {\n",
       "        text-align: right;\n",
       "    }\n",
       "</style>\n",
       "<table border=\"1\" class=\"dataframe\">\n",
       "  <thead>\n",
       "    <tr style=\"text-align: right;\">\n",
       "      <th></th>\n",
       "      <th>count</th>\n",
       "      <th>unique</th>\n",
       "      <th>top</th>\n",
       "      <th>freq</th>\n",
       "      <th>mean</th>\n",
       "      <th>std</th>\n",
       "      <th>min</th>\n",
       "      <th>25%</th>\n",
       "      <th>50%</th>\n",
       "      <th>75%</th>\n",
       "      <th>max</th>\n",
       "    </tr>\n",
       "  </thead>\n",
       "  <tbody>\n",
       "    <tr>\n",
       "      <th>Timestamp</th>\n",
       "      <td>1253</td>\n",
       "      <td>1248</td>\n",
       "      <td>24/11/2020 13:55:19</td>\n",
       "      <td>2</td>\n",
       "      <td>NaN</td>\n",
       "      <td>NaN</td>\n",
       "      <td>NaN</td>\n",
       "      <td>NaN</td>\n",
       "      <td>NaN</td>\n",
       "      <td>NaN</td>\n",
       "      <td>NaN</td>\n",
       "    </tr>\n",
       "    <tr>\n",
       "      <th>Age</th>\n",
       "      <td>1226.0</td>\n",
       "      <td>NaN</td>\n",
       "      <td>NaN</td>\n",
       "      <td>NaN</td>\n",
       "      <td>32.509788</td>\n",
       "      <td>5.663804</td>\n",
       "      <td>20.0</td>\n",
       "      <td>29.0</td>\n",
       "      <td>32.0</td>\n",
       "      <td>35.0</td>\n",
       "      <td>69.0</td>\n",
       "    </tr>\n",
       "    <tr>\n",
       "      <th>Gender</th>\n",
       "      <td>1243</td>\n",
       "      <td>3</td>\n",
       "      <td>Male</td>\n",
       "      <td>1049</td>\n",
       "      <td>NaN</td>\n",
       "      <td>NaN</td>\n",
       "      <td>NaN</td>\n",
       "      <td>NaN</td>\n",
       "      <td>NaN</td>\n",
       "      <td>NaN</td>\n",
       "      <td>NaN</td>\n",
       "    </tr>\n",
       "    <tr>\n",
       "      <th>City</th>\n",
       "      <td>1253</td>\n",
       "      <td>119</td>\n",
       "      <td>Berlin</td>\n",
       "      <td>681</td>\n",
       "      <td>NaN</td>\n",
       "      <td>NaN</td>\n",
       "      <td>NaN</td>\n",
       "      <td>NaN</td>\n",
       "      <td>NaN</td>\n",
       "      <td>NaN</td>\n",
       "      <td>NaN</td>\n",
       "    </tr>\n",
       "    <tr>\n",
       "      <th>Position</th>\n",
       "      <td>1247</td>\n",
       "      <td>148</td>\n",
       "      <td>Software Engineer</td>\n",
       "      <td>387</td>\n",
       "      <td>NaN</td>\n",
       "      <td>NaN</td>\n",
       "      <td>NaN</td>\n",
       "      <td>NaN</td>\n",
       "      <td>NaN</td>\n",
       "      <td>NaN</td>\n",
       "      <td>NaN</td>\n",
       "    </tr>\n",
       "    <tr>\n",
       "      <th>Total years of experience</th>\n",
       "      <td>1237</td>\n",
       "      <td>48</td>\n",
       "      <td>10</td>\n",
       "      <td>138</td>\n",
       "      <td>NaN</td>\n",
       "      <td>NaN</td>\n",
       "      <td>NaN</td>\n",
       "      <td>NaN</td>\n",
       "      <td>NaN</td>\n",
       "      <td>NaN</td>\n",
       "      <td>NaN</td>\n",
       "    </tr>\n",
       "    <tr>\n",
       "      <th>Years of experience in Germany</th>\n",
       "      <td>1221</td>\n",
       "      <td>53</td>\n",
       "      <td>2</td>\n",
       "      <td>195</td>\n",
       "      <td>NaN</td>\n",
       "      <td>NaN</td>\n",
       "      <td>NaN</td>\n",
       "      <td>NaN</td>\n",
       "      <td>NaN</td>\n",
       "      <td>NaN</td>\n",
       "      <td>NaN</td>\n",
       "    </tr>\n",
       "    <tr>\n",
       "      <th>Seniority level</th>\n",
       "      <td>1241</td>\n",
       "      <td>24</td>\n",
       "      <td>Senior</td>\n",
       "      <td>565</td>\n",
       "      <td>NaN</td>\n",
       "      <td>NaN</td>\n",
       "      <td>NaN</td>\n",
       "      <td>NaN</td>\n",
       "      <td>NaN</td>\n",
       "      <td>NaN</td>\n",
       "      <td>NaN</td>\n",
       "    </tr>\n",
       "    <tr>\n",
       "      <th>Your main technology / programming language</th>\n",
       "      <td>1126</td>\n",
       "      <td>256</td>\n",
       "      <td>Java</td>\n",
       "      <td>184</td>\n",
       "      <td>NaN</td>\n",
       "      <td>NaN</td>\n",
       "      <td>NaN</td>\n",
       "      <td>NaN</td>\n",
       "      <td>NaN</td>\n",
       "      <td>NaN</td>\n",
       "      <td>NaN</td>\n",
       "    </tr>\n",
       "    <tr>\n",
       "      <th>Other technologies/programming languages you use often</th>\n",
       "      <td>1096</td>\n",
       "      <td>562</td>\n",
       "      <td>Javascript / Typescript</td>\n",
       "      <td>44</td>\n",
       "      <td>NaN</td>\n",
       "      <td>NaN</td>\n",
       "      <td>NaN</td>\n",
       "      <td>NaN</td>\n",
       "      <td>NaN</td>\n",
       "      <td>NaN</td>\n",
       "      <td>NaN</td>\n",
       "    </tr>\n",
       "    <tr>\n",
       "      <th>Yearly brutto salary (without bonus and stocks) in EUR</th>\n",
       "      <td>1253.0</td>\n",
       "      <td>NaN</td>\n",
       "      <td>NaN</td>\n",
       "      <td>NaN</td>\n",
       "      <td>80279042.578715</td>\n",
       "      <td>2825061107.590495</td>\n",
       "      <td>10001.0</td>\n",
       "      <td>58800.0</td>\n",
       "      <td>70000.0</td>\n",
       "      <td>80000.0</td>\n",
       "      <td>99999999999.0</td>\n",
       "    </tr>\n",
       "    <tr>\n",
       "      <th>Yearly bonus + stocks in EUR</th>\n",
       "      <td>829</td>\n",
       "      <td>168</td>\n",
       "      <td>0</td>\n",
       "      <td>227</td>\n",
       "      <td>NaN</td>\n",
       "      <td>NaN</td>\n",
       "      <td>NaN</td>\n",
       "      <td>NaN</td>\n",
       "      <td>NaN</td>\n",
       "      <td>NaN</td>\n",
       "      <td>NaN</td>\n",
       "    </tr>\n",
       "    <tr>\n",
       "      <th>Number of vacation days</th>\n",
       "      <td>1185</td>\n",
       "      <td>45</td>\n",
       "      <td>30</td>\n",
       "      <td>488</td>\n",
       "      <td>NaN</td>\n",
       "      <td>NaN</td>\n",
       "      <td>NaN</td>\n",
       "      <td>NaN</td>\n",
       "      <td>NaN</td>\n",
       "      <td>NaN</td>\n",
       "      <td>NaN</td>\n",
       "    </tr>\n",
       "    <tr>\n",
       "      <th>Employment status</th>\n",
       "      <td>1236</td>\n",
       "      <td>11</td>\n",
       "      <td>Full-time employee</td>\n",
       "      <td>1190</td>\n",
       "      <td>NaN</td>\n",
       "      <td>NaN</td>\n",
       "      <td>NaN</td>\n",
       "      <td>NaN</td>\n",
       "      <td>NaN</td>\n",
       "      <td>NaN</td>\n",
       "      <td>NaN</td>\n",
       "    </tr>\n",
       "    <tr>\n",
       "      <th>Сontract duration</th>\n",
       "      <td>1224</td>\n",
       "      <td>3</td>\n",
       "      <td>Unlimited contract</td>\n",
       "      <td>1159</td>\n",
       "      <td>NaN</td>\n",
       "      <td>NaN</td>\n",
       "      <td>NaN</td>\n",
       "      <td>NaN</td>\n",
       "      <td>NaN</td>\n",
       "      <td>NaN</td>\n",
       "      <td>NaN</td>\n",
       "    </tr>\n",
       "    <tr>\n",
       "      <th>Main language at work</th>\n",
       "      <td>1237</td>\n",
       "      <td>14</td>\n",
       "      <td>English</td>\n",
       "      <td>1020</td>\n",
       "      <td>NaN</td>\n",
       "      <td>NaN</td>\n",
       "      <td>NaN</td>\n",
       "      <td>NaN</td>\n",
       "      <td>NaN</td>\n",
       "      <td>NaN</td>\n",
       "      <td>NaN</td>\n",
       "    </tr>\n",
       "    <tr>\n",
       "      <th>Company size</th>\n",
       "      <td>1235</td>\n",
       "      <td>5</td>\n",
       "      <td>1000+</td>\n",
       "      <td>448</td>\n",
       "      <td>NaN</td>\n",
       "      <td>NaN</td>\n",
       "      <td>NaN</td>\n",
       "      <td>NaN</td>\n",
       "      <td>NaN</td>\n",
       "      <td>NaN</td>\n",
       "      <td>NaN</td>\n",
       "    </tr>\n",
       "    <tr>\n",
       "      <th>Company type</th>\n",
       "      <td>1228</td>\n",
       "      <td>63</td>\n",
       "      <td>Product</td>\n",
       "      <td>760</td>\n",
       "      <td>NaN</td>\n",
       "      <td>NaN</td>\n",
       "      <td>NaN</td>\n",
       "      <td>NaN</td>\n",
       "      <td>NaN</td>\n",
       "      <td>NaN</td>\n",
       "      <td>NaN</td>\n",
       "    </tr>\n",
       "  </tbody>\n",
       "</table>\n",
       "</div>"
      ],
      "text/plain": [
       "                                                     count unique  \\\n",
       "Timestamp                                             1253   1248   \n",
       "Age                                                 1226.0    NaN   \n",
       "Gender                                                1243      3   \n",
       "City                                                  1253    119   \n",
       "Position                                              1247    148   \n",
       "Total years of experience                             1237     48   \n",
       "Years of experience in Germany                        1221     53   \n",
       "Seniority level                                       1241     24   \n",
       "Your main technology / programming language           1126    256   \n",
       "Other technologies/programming languages you us...    1096    562   \n",
       "Yearly brutto salary (without bonus and stocks)...  1253.0    NaN   \n",
       "Yearly bonus + stocks in EUR                           829    168   \n",
       "Number of vacation days                               1185     45   \n",
       "Employment status                                     1236     11   \n",
       "Сontract duration                                     1224      3   \n",
       "Main language at work                                 1237     14   \n",
       "Company size                                          1235      5   \n",
       "Company type                                          1228     63   \n",
       "\n",
       "                                                                        top  \\\n",
       "Timestamp                                               24/11/2020 13:55:19   \n",
       "Age                                                                     NaN   \n",
       "Gender                                                                 Male   \n",
       "City                                                                 Berlin   \n",
       "Position                                                  Software Engineer   \n",
       "Total years of experience                                                10   \n",
       "Years of experience in Germany                                            2   \n",
       "Seniority level                                                      Senior   \n",
       "Your main technology / programming language                            Java   \n",
       "Other technologies/programming languages you us...  Javascript / Typescript   \n",
       "Yearly brutto salary (without bonus and stocks)...                      NaN   \n",
       "Yearly bonus + stocks in EUR                                              0   \n",
       "Number of vacation days                                                  30   \n",
       "Employment status                                        Full-time employee   \n",
       "Сontract duration                                        Unlimited contract   \n",
       "Main language at work                                               English   \n",
       "Company size                                                          1000+   \n",
       "Company type                                                        Product   \n",
       "\n",
       "                                                    freq             mean  \\\n",
       "Timestamp                                              2              NaN   \n",
       "Age                                                  NaN        32.509788   \n",
       "Gender                                              1049              NaN   \n",
       "City                                                 681              NaN   \n",
       "Position                                             387              NaN   \n",
       "Total years of experience                            138              NaN   \n",
       "Years of experience in Germany                       195              NaN   \n",
       "Seniority level                                      565              NaN   \n",
       "Your main technology / programming language          184              NaN   \n",
       "Other technologies/programming languages you us...    44              NaN   \n",
       "Yearly brutto salary (without bonus and stocks)...   NaN  80279042.578715   \n",
       "Yearly bonus + stocks in EUR                         227              NaN   \n",
       "Number of vacation days                              488              NaN   \n",
       "Employment status                                   1190              NaN   \n",
       "Сontract duration                                   1159              NaN   \n",
       "Main language at work                               1020              NaN   \n",
       "Company size                                         448              NaN   \n",
       "Company type                                         760              NaN   \n",
       "\n",
       "                                                                  std  \\\n",
       "Timestamp                                                         NaN   \n",
       "Age                                                          5.663804   \n",
       "Gender                                                            NaN   \n",
       "City                                                              NaN   \n",
       "Position                                                          NaN   \n",
       "Total years of experience                                         NaN   \n",
       "Years of experience in Germany                                    NaN   \n",
       "Seniority level                                                   NaN   \n",
       "Your main technology / programming language                       NaN   \n",
       "Other technologies/programming languages you us...                NaN   \n",
       "Yearly brutto salary (without bonus and stocks)...  2825061107.590495   \n",
       "Yearly bonus + stocks in EUR                                      NaN   \n",
       "Number of vacation days                                           NaN   \n",
       "Employment status                                                 NaN   \n",
       "Сontract duration                                                 NaN   \n",
       "Main language at work                                             NaN   \n",
       "Company size                                                      NaN   \n",
       "Company type                                                      NaN   \n",
       "\n",
       "                                                        min      25%      50%  \\\n",
       "Timestamp                                               NaN      NaN      NaN   \n",
       "Age                                                    20.0     29.0     32.0   \n",
       "Gender                                                  NaN      NaN      NaN   \n",
       "City                                                    NaN      NaN      NaN   \n",
       "Position                                                NaN      NaN      NaN   \n",
       "Total years of experience                               NaN      NaN      NaN   \n",
       "Years of experience in Germany                          NaN      NaN      NaN   \n",
       "Seniority level                                         NaN      NaN      NaN   \n",
       "Your main technology / programming language             NaN      NaN      NaN   \n",
       "Other technologies/programming languages you us...      NaN      NaN      NaN   \n",
       "Yearly brutto salary (without bonus and stocks)...  10001.0  58800.0  70000.0   \n",
       "Yearly bonus + stocks in EUR                            NaN      NaN      NaN   \n",
       "Number of vacation days                                 NaN      NaN      NaN   \n",
       "Employment status                                       NaN      NaN      NaN   \n",
       "Сontract duration                                       NaN      NaN      NaN   \n",
       "Main language at work                                   NaN      NaN      NaN   \n",
       "Company size                                            NaN      NaN      NaN   \n",
       "Company type                                            NaN      NaN      NaN   \n",
       "\n",
       "                                                        75%            max  \n",
       "Timestamp                                               NaN            NaN  \n",
       "Age                                                    35.0           69.0  \n",
       "Gender                                                  NaN            NaN  \n",
       "City                                                    NaN            NaN  \n",
       "Position                                                NaN            NaN  \n",
       "Total years of experience                               NaN            NaN  \n",
       "Years of experience in Germany                          NaN            NaN  \n",
       "Seniority level                                         NaN            NaN  \n",
       "Your main technology / programming language             NaN            NaN  \n",
       "Other technologies/programming languages you us...      NaN            NaN  \n",
       "Yearly brutto salary (without bonus and stocks)...  80000.0  99999999999.0  \n",
       "Yearly bonus + stocks in EUR                            NaN            NaN  \n",
       "Number of vacation days                                 NaN            NaN  \n",
       "Employment status                                       NaN            NaN  \n",
       "Сontract duration                                       NaN            NaN  \n",
       "Main language at work                                   NaN            NaN  \n",
       "Company size                                            NaN            NaN  \n",
       "Company type                                            NaN            NaN  "
      ]
     },
     "execution_count": 4,
     "metadata": {},
     "output_type": "execute_result"
    }
   ],
   "source": [
    "#Load Data\n",
    "df = pd.read_csv(\"data/Euro_Salary.csv\")\n",
    "df.describe(include=\"all\").T"
   ]
  },
  {
   "cell_type": "code",
   "execution_count": 5,
   "metadata": {},
   "outputs": [
    {
     "data": {
      "text/html": [
       "<div>\n",
       "<style scoped>\n",
       "    .dataframe tbody tr th:only-of-type {\n",
       "        vertical-align: middle;\n",
       "    }\n",
       "\n",
       "    .dataframe tbody tr th {\n",
       "        vertical-align: top;\n",
       "    }\n",
       "\n",
       "    .dataframe thead th {\n",
       "        text-align: right;\n",
       "    }\n",
       "</style>\n",
       "<table border=\"1\" class=\"dataframe\">\n",
       "  <thead>\n",
       "    <tr style=\"text-align: right;\">\n",
       "      <th></th>\n",
       "      <th>Timestamp</th>\n",
       "      <th>Age</th>\n",
       "      <th>Gender</th>\n",
       "      <th>City</th>\n",
       "      <th>Position</th>\n",
       "      <th>Total years of experience</th>\n",
       "      <th>Years of experience in Germany</th>\n",
       "      <th>Seniority level</th>\n",
       "      <th>Your main technology / programming language</th>\n",
       "      <th>Other technologies/programming languages you use often</th>\n",
       "      <th>Yearly brutto salary (without bonus and stocks) in EUR</th>\n",
       "      <th>Yearly bonus + stocks in EUR</th>\n",
       "      <th>Number of vacation days</th>\n",
       "      <th>Employment status</th>\n",
       "      <th>Сontract duration</th>\n",
       "      <th>Main language at work</th>\n",
       "      <th>Company size</th>\n",
       "      <th>Company type</th>\n",
       "    </tr>\n",
       "  </thead>\n",
       "  <tbody>\n",
       "    <tr>\n",
       "      <th>242</th>\n",
       "      <td>24/11/2020 14:03:04</td>\n",
       "      <td>29.0</td>\n",
       "      <td>Female</td>\n",
       "      <td>Stuttgart</td>\n",
       "      <td>QA Engineer</td>\n",
       "      <td>6</td>\n",
       "      <td>2</td>\n",
       "      <td>Middle</td>\n",
       "      <td>JS</td>\n",
       "      <td>NaN</td>\n",
       "      <td>54000.0</td>\n",
       "      <td>NaN</td>\n",
       "      <td>26</td>\n",
       "      <td>Full-time employee</td>\n",
       "      <td>Unlimited contract</td>\n",
       "      <td>English</td>\n",
       "      <td>101-1000</td>\n",
       "      <td>Product</td>\n",
       "    </tr>\n",
       "    <tr>\n",
       "      <th>1065</th>\n",
       "      <td>02/12/2020 21:53:01</td>\n",
       "      <td>31.0</td>\n",
       "      <td>Male</td>\n",
       "      <td>Berlin</td>\n",
       "      <td>Software Engineer</td>\n",
       "      <td>4</td>\n",
       "      <td>4</td>\n",
       "      <td>Senior</td>\n",
       "      <td>Python</td>\n",
       "      <td>Python, Javascript / Typescript, AWS, Docker</td>\n",
       "      <td>68000.0</td>\n",
       "      <td>0</td>\n",
       "      <td>30</td>\n",
       "      <td>Full-time employee</td>\n",
       "      <td>Unlimited contract</td>\n",
       "      <td>English</td>\n",
       "      <td>101-1000</td>\n",
       "      <td>Startup</td>\n",
       "    </tr>\n",
       "    <tr>\n",
       "      <th>872</th>\n",
       "      <td>27/11/2020 20:17:35</td>\n",
       "      <td>31.0</td>\n",
       "      <td>Male</td>\n",
       "      <td>Munich</td>\n",
       "      <td>ML Engineer</td>\n",
       "      <td>4</td>\n",
       "      <td>4</td>\n",
       "      <td>Senior</td>\n",
       "      <td>Python</td>\n",
       "      <td>Python</td>\n",
       "      <td>100000.0</td>\n",
       "      <td>100000</td>\n",
       "      <td>20</td>\n",
       "      <td>Full-time employee</td>\n",
       "      <td>Unlimited contract</td>\n",
       "      <td>English</td>\n",
       "      <td>1000+</td>\n",
       "      <td>Product</td>\n",
       "    </tr>\n",
       "    <tr>\n",
       "      <th>593</th>\n",
       "      <td>25/11/2020 13:58:38</td>\n",
       "      <td>30.0</td>\n",
       "      <td>Male</td>\n",
       "      <td>Berlin</td>\n",
       "      <td>Data Scientist</td>\n",
       "      <td>6</td>\n",
       "      <td>3</td>\n",
       "      <td>Senior</td>\n",
       "      <td>NaN</td>\n",
       "      <td>Python, SQL, AWS, Google Cloud, Docker</td>\n",
       "      <td>72000.0</td>\n",
       "      <td>85000</td>\n",
       "      <td>27</td>\n",
       "      <td>Full-time employee</td>\n",
       "      <td>Unlimited contract</td>\n",
       "      <td>English</td>\n",
       "      <td>1000+</td>\n",
       "      <td>Startup</td>\n",
       "    </tr>\n",
       "    <tr>\n",
       "      <th>1063</th>\n",
       "      <td>02/12/2020 21:39:34</td>\n",
       "      <td>NaN</td>\n",
       "      <td>Male</td>\n",
       "      <td>Munich</td>\n",
       "      <td>Frontend Developer</td>\n",
       "      <td>5</td>\n",
       "      <td>3</td>\n",
       "      <td>Lead</td>\n",
       "      <td>javascript</td>\n",
       "      <td>Javascript / Typescript</td>\n",
       "      <td>70000.0</td>\n",
       "      <td>NaN</td>\n",
       "      <td>24</td>\n",
       "      <td>Full-time employee</td>\n",
       "      <td>Unlimited contract</td>\n",
       "      <td>English</td>\n",
       "      <td>11-50</td>\n",
       "      <td>Startup</td>\n",
       "    </tr>\n",
       "    <tr>\n",
       "      <th>727</th>\n",
       "      <td>26/11/2020 05:53:19</td>\n",
       "      <td>22.0</td>\n",
       "      <td>Diverse</td>\n",
       "      <td>Cologne</td>\n",
       "      <td>QA Engineer</td>\n",
       "      <td>1</td>\n",
       "      <td>1</td>\n",
       "      <td>Head</td>\n",
       "      <td>Cobol</td>\n",
       "      <td>Perl</td>\n",
       "      <td>159000.0</td>\n",
       "      <td>35000</td>\n",
       "      <td>45</td>\n",
       "      <td>Full-time employee</td>\n",
       "      <td>Unlimited contract</td>\n",
       "      <td>German</td>\n",
       "      <td>1000+</td>\n",
       "      <td>Product</td>\n",
       "    </tr>\n",
       "    <tr>\n",
       "      <th>528</th>\n",
       "      <td>25/11/2020 10:58:00</td>\n",
       "      <td>39.0</td>\n",
       "      <td>Male</td>\n",
       "      <td>Munich</td>\n",
       "      <td>Software Architect</td>\n",
       "      <td>20</td>\n",
       "      <td>12</td>\n",
       "      <td>Lead</td>\n",
       "      <td>embedded</td>\n",
       "      <td>C/C++, Clojure, Assembly</td>\n",
       "      <td>122000.0</td>\n",
       "      <td>45000</td>\n",
       "      <td>28</td>\n",
       "      <td>Full-time employee</td>\n",
       "      <td>Unlimited contract</td>\n",
       "      <td>English</td>\n",
       "      <td>1000+</td>\n",
       "      <td>Product</td>\n",
       "    </tr>\n",
       "    <tr>\n",
       "      <th>817</th>\n",
       "      <td>27/11/2020 09:50:36</td>\n",
       "      <td>26.0</td>\n",
       "      <td>Female</td>\n",
       "      <td>Moscow</td>\n",
       "      <td>Frontend Developer</td>\n",
       "      <td>6</td>\n",
       "      <td>0</td>\n",
       "      <td>Senior</td>\n",
       "      <td>JavaScript</td>\n",
       "      <td>Javascript / Typescript</td>\n",
       "      <td>33000.0</td>\n",
       "      <td>0</td>\n",
       "      <td>NaN</td>\n",
       "      <td>Full-time employee</td>\n",
       "      <td>Unlimited contract</td>\n",
       "      <td>Russian</td>\n",
       "      <td>101-1000</td>\n",
       "      <td>Product</td>\n",
       "    </tr>\n",
       "    <tr>\n",
       "      <th>799</th>\n",
       "      <td>26/11/2020 21:42:38</td>\n",
       "      <td>30.0</td>\n",
       "      <td>Female</td>\n",
       "      <td>Düsseldorf</td>\n",
       "      <td>Analyst</td>\n",
       "      <td>2</td>\n",
       "      <td>2</td>\n",
       "      <td>Junior</td>\n",
       "      <td>R</td>\n",
       "      <td>Python, SQL</td>\n",
       "      <td>45000.0</td>\n",
       "      <td>NaN</td>\n",
       "      <td>28</td>\n",
       "      <td>Full-time employee</td>\n",
       "      <td>Unlimited contract</td>\n",
       "      <td>English</td>\n",
       "      <td>1000+</td>\n",
       "      <td>Product</td>\n",
       "    </tr>\n",
       "    <tr>\n",
       "      <th>161</th>\n",
       "      <td>24/11/2020 12:17:32</td>\n",
       "      <td>36.0</td>\n",
       "      <td>Female</td>\n",
       "      <td>Munich</td>\n",
       "      <td>Backend Developer</td>\n",
       "      <td>5</td>\n",
       "      <td>1</td>\n",
       "      <td>Middle</td>\n",
       "      <td>PHP</td>\n",
       "      <td>Javascript / Typescript, Docker</td>\n",
       "      <td>60000.0</td>\n",
       "      <td>5000</td>\n",
       "      <td>28</td>\n",
       "      <td>Full-time employee</td>\n",
       "      <td>Unlimited contract</td>\n",
       "      <td>English</td>\n",
       "      <td>101-1000</td>\n",
       "      <td>Product</td>\n",
       "    </tr>\n",
       "  </tbody>\n",
       "</table>\n",
       "</div>"
      ],
      "text/plain": [
       "                Timestamp   Age   Gender         City           Position   \\\n",
       "242   24/11/2020 14:03:04  29.0   Female    Stuttgart         QA Engineer   \n",
       "1065  02/12/2020 21:53:01  31.0     Male       Berlin   Software Engineer   \n",
       "872   27/11/2020 20:17:35  31.0     Male       Munich         ML Engineer   \n",
       "593   25/11/2020 13:58:38  30.0     Male       Berlin      Data Scientist   \n",
       "1063  02/12/2020 21:39:34   NaN     Male       Munich  Frontend Developer   \n",
       "727   26/11/2020 05:53:19  22.0  Diverse      Cologne         QA Engineer   \n",
       "528   25/11/2020 10:58:00  39.0     Male       Munich  Software Architect   \n",
       "817   27/11/2020 09:50:36  26.0   Female       Moscow  Frontend Developer   \n",
       "799   26/11/2020 21:42:38  30.0   Female  Düsseldorf              Analyst   \n",
       "161   24/11/2020 12:17:32  36.0   Female       Munich   Backend Developer   \n",
       "\n",
       "     Total years of experience Years of experience in Germany Seniority level  \\\n",
       "242                          6                              2          Middle   \n",
       "1065                         4                              4          Senior   \n",
       "872                          4                              4          Senior   \n",
       "593                          6                              3          Senior   \n",
       "1063                         5                              3            Lead   \n",
       "727                          1                              1            Head   \n",
       "528                         20                             12            Lead   \n",
       "817                          6                              0          Senior   \n",
       "799                          2                              2          Junior   \n",
       "161                          5                              1          Middle   \n",
       "\n",
       "     Your main technology / programming language  \\\n",
       "242                                           JS   \n",
       "1065                                      Python   \n",
       "872                                       Python   \n",
       "593                                          NaN   \n",
       "1063                                  javascript   \n",
       "727                                        Cobol   \n",
       "528                                     embedded   \n",
       "817                                   JavaScript   \n",
       "799                                            R   \n",
       "161                                          PHP   \n",
       "\n",
       "     Other technologies/programming languages you use often  \\\n",
       "242                                                 NaN       \n",
       "1065       Python, Javascript / Typescript, AWS, Docker       \n",
       "872                                              Python       \n",
       "593              Python, SQL, AWS, Google Cloud, Docker       \n",
       "1063                            Javascript / Typescript       \n",
       "727                                                Perl       \n",
       "528                            C/C++, Clojure, Assembly       \n",
       "817                             Javascript / Typescript       \n",
       "799                                         Python, SQL       \n",
       "161                     Javascript / Typescript, Docker       \n",
       "\n",
       "      Yearly brutto salary (without bonus and stocks) in EUR  \\\n",
       "242                                             54000.0        \n",
       "1065                                            68000.0        \n",
       "872                                            100000.0        \n",
       "593                                             72000.0        \n",
       "1063                                            70000.0        \n",
       "727                                            159000.0        \n",
       "528                                            122000.0        \n",
       "817                                             33000.0        \n",
       "799                                             45000.0        \n",
       "161                                             60000.0        \n",
       "\n",
       "     Yearly bonus + stocks in EUR Number of vacation days   Employment status  \\\n",
       "242                           NaN                      26  Full-time employee   \n",
       "1065                            0                      30  Full-time employee   \n",
       "872                        100000                      20  Full-time employee   \n",
       "593                         85000                      27  Full-time employee   \n",
       "1063                          NaN                      24  Full-time employee   \n",
       "727                         35000                      45  Full-time employee   \n",
       "528                         45000                      28  Full-time employee   \n",
       "817                             0                     NaN  Full-time employee   \n",
       "799                           NaN                      28  Full-time employee   \n",
       "161                          5000                      28  Full-time employee   \n",
       "\n",
       "       Сontract duration Main language at work Company size Company type  \n",
       "242   Unlimited contract               English     101-1000      Product  \n",
       "1065  Unlimited contract               English     101-1000      Startup  \n",
       "872   Unlimited contract               English        1000+      Product  \n",
       "593   Unlimited contract               English        1000+      Startup  \n",
       "1063  Unlimited contract               English        11-50      Startup  \n",
       "727   Unlimited contract                German        1000+      Product  \n",
       "528   Unlimited contract               English        1000+      Product  \n",
       "817   Unlimited contract               Russian     101-1000      Product  \n",
       "799   Unlimited contract               English        1000+      Product  \n",
       "161   Unlimited contract               English     101-1000      Product  "
      ]
     },
     "execution_count": 5,
     "metadata": {},
     "output_type": "execute_result"
    }
   ],
   "source": [
    "df.sample(10)"
   ]
  },
  {
   "cell_type": "code",
   "execution_count": 6,
   "metadata": {},
   "outputs": [
    {
     "data": {
      "text/plain": [
       "Javascript / Typescript                                                                   44\n",
       "Python                                                                                    37\n",
       "SQL                                                                                       31\n",
       "AWS, Docker                                                                               16\n",
       "Kotlin                                                                                    15\n",
       "                                                                                          ..\n",
       "Python, Ruby, Java / Scala, Go, Rust, AWS, Kubernetes, Docker, Terraform, helm, packer     1\n",
       "Kotlin, SQL, AWS, Kubernetes, Docker                                                       1\n",
       "Python, R, Go                                                                              1\n",
       "C/C++, PHP, SQL                                                                            1\n",
       "Python, AWS, Kubernetes, Docker, terraform, ansible                                        1\n",
       "Name: Other technologies/programming languages you use often, Length: 562, dtype: int64"
      ]
     },
     "execution_count": 6,
     "metadata": {},
     "output_type": "execute_result"
    }
   ],
   "source": [
    "#df.info()\n",
    "df[\"Other technologies/programming languages you use often\"].value_counts()"
   ]
  },
  {
   "cell_type": "code",
   "execution_count": 7,
   "metadata": {},
   "outputs": [
    {
     "data": {
      "text/html": [
       "<div>\n",
       "<style scoped>\n",
       "    .dataframe tbody tr th:only-of-type {\n",
       "        vertical-align: middle;\n",
       "    }\n",
       "\n",
       "    .dataframe tbody tr th {\n",
       "        vertical-align: top;\n",
       "    }\n",
       "\n",
       "    .dataframe thead th {\n",
       "        text-align: right;\n",
       "    }\n",
       "</style>\n",
       "<table border=\"1\" class=\"dataframe\">\n",
       "  <thead>\n",
       "    <tr style=\"text-align: right;\">\n",
       "      <th></th>\n",
       "      <th>Age</th>\n",
       "      <th>Gender</th>\n",
       "      <th>City</th>\n",
       "      <th>Position</th>\n",
       "      <th>Total years of experience</th>\n",
       "      <th>Years of experience in Germany</th>\n",
       "      <th>Seniority level</th>\n",
       "      <th>Your main technology / programming language</th>\n",
       "      <th>Other technologies/programming languages you use often</th>\n",
       "      <th>Number of vacation days</th>\n",
       "      <th>Employment status</th>\n",
       "      <th>Сontract duration</th>\n",
       "      <th>Main language at work</th>\n",
       "      <th>Company size</th>\n",
       "      <th>Company type</th>\n",
       "      <th>target</th>\n",
       "    </tr>\n",
       "  </thead>\n",
       "  <tbody>\n",
       "    <tr>\n",
       "      <th>0</th>\n",
       "      <td>26.0</td>\n",
       "      <td>Male</td>\n",
       "      <td>Munich</td>\n",
       "      <td>Software Engineer</td>\n",
       "      <td>5</td>\n",
       "      <td>3</td>\n",
       "      <td>Senior</td>\n",
       "      <td>TypeScript</td>\n",
       "      <td>Kotlin, Javascript / Typescript</td>\n",
       "      <td>30</td>\n",
       "      <td>Full-time employee</td>\n",
       "      <td>Unlimited contract</td>\n",
       "      <td>English</td>\n",
       "      <td>51-100</td>\n",
       "      <td>Product</td>\n",
       "      <td>85000.0</td>\n",
       "    </tr>\n",
       "    <tr>\n",
       "      <th>1</th>\n",
       "      <td>26.0</td>\n",
       "      <td>Male</td>\n",
       "      <td>Berlin</td>\n",
       "      <td>Backend Developer</td>\n",
       "      <td>7</td>\n",
       "      <td>4</td>\n",
       "      <td>Senior</td>\n",
       "      <td>Ruby</td>\n",
       "      <td>NaN</td>\n",
       "      <td>28</td>\n",
       "      <td>Full-time employee</td>\n",
       "      <td>Unlimited contract</td>\n",
       "      <td>English</td>\n",
       "      <td>101-1000</td>\n",
       "      <td>Product</td>\n",
       "      <td>80000.0</td>\n",
       "    </tr>\n",
       "    <tr>\n",
       "      <th>2</th>\n",
       "      <td>29.0</td>\n",
       "      <td>Male</td>\n",
       "      <td>Berlin</td>\n",
       "      <td>Software Engineer</td>\n",
       "      <td>12</td>\n",
       "      <td>6</td>\n",
       "      <td>Lead</td>\n",
       "      <td>Javascript / Typescript</td>\n",
       "      <td>Javascript / Typescript, Docker</td>\n",
       "      <td>30</td>\n",
       "      <td>Self-employed (freelancer)</td>\n",
       "      <td>Temporary contract</td>\n",
       "      <td>English</td>\n",
       "      <td>101-1000</td>\n",
       "      <td>Product</td>\n",
       "      <td>240000.0</td>\n",
       "    </tr>\n",
       "    <tr>\n",
       "      <th>3</th>\n",
       "      <td>28.0</td>\n",
       "      <td>Male</td>\n",
       "      <td>Berlin</td>\n",
       "      <td>Frontend Developer</td>\n",
       "      <td>4</td>\n",
       "      <td>1</td>\n",
       "      <td>Junior</td>\n",
       "      <td>Javascript</td>\n",
       "      <td>NaN</td>\n",
       "      <td>24</td>\n",
       "      <td>Full-time employee</td>\n",
       "      <td>Unlimited contract</td>\n",
       "      <td>English</td>\n",
       "      <td>51-100</td>\n",
       "      <td>Startup</td>\n",
       "      <td>54000.0</td>\n",
       "    </tr>\n",
       "    <tr>\n",
       "      <th>4</th>\n",
       "      <td>37.0</td>\n",
       "      <td>Male</td>\n",
       "      <td>Berlin</td>\n",
       "      <td>Backend Developer</td>\n",
       "      <td>17</td>\n",
       "      <td>6</td>\n",
       "      <td>Senior</td>\n",
       "      <td>C# .NET</td>\n",
       "      <td>.NET, SQL, AWS, Docker</td>\n",
       "      <td>29</td>\n",
       "      <td>Full-time employee</td>\n",
       "      <td>Unlimited contract</td>\n",
       "      <td>English</td>\n",
       "      <td>101-1000</td>\n",
       "      <td>Product</td>\n",
       "      <td>62000.0</td>\n",
       "    </tr>\n",
       "  </tbody>\n",
       "</table>\n",
       "</div>"
      ],
      "text/plain": [
       "    Age Gender    City           Position  Total years of experience  \\\n",
       "0  26.0   Male  Munich   Software Engineer                         5   \n",
       "1  26.0   Male  Berlin   Backend Developer                         7   \n",
       "2  29.0   Male  Berlin   Software Engineer                        12   \n",
       "3  28.0   Male  Berlin  Frontend Developer                         4   \n",
       "4  37.0   Male  Berlin   Backend Developer                        17   \n",
       "\n",
       "  Years of experience in Germany Seniority level  \\\n",
       "0                              3          Senior   \n",
       "1                              4          Senior   \n",
       "2                              6            Lead   \n",
       "3                              1          Junior   \n",
       "4                              6          Senior   \n",
       "\n",
       "  Your main technology / programming language  \\\n",
       "0                                  TypeScript   \n",
       "1                                        Ruby   \n",
       "2                     Javascript / Typescript   \n",
       "3                                  Javascript   \n",
       "4                                     C# .NET   \n",
       "\n",
       "  Other technologies/programming languages you use often  \\\n",
       "0                    Kotlin, Javascript / Typescript       \n",
       "1                                                NaN       \n",
       "2                    Javascript / Typescript, Docker       \n",
       "3                                                NaN       \n",
       "4                             .NET, SQL, AWS, Docker       \n",
       "\n",
       "  Number of vacation days           Employment status   Сontract duration  \\\n",
       "0                      30          Full-time employee  Unlimited contract   \n",
       "1                      28          Full-time employee  Unlimited contract   \n",
       "2                      30  Self-employed (freelancer)  Temporary contract   \n",
       "3                      24          Full-time employee  Unlimited contract   \n",
       "4                      29          Full-time employee  Unlimited contract   \n",
       "\n",
       "  Main language at work Company size Company type    target  \n",
       "0               English       51-100      Product   85000.0  \n",
       "1               English     101-1000      Product   80000.0  \n",
       "2               English     101-1000      Product  240000.0  \n",
       "3               English       51-100      Startup   54000.0  \n",
       "4               English     101-1000      Product   62000.0  "
      ]
     },
     "execution_count": 7,
     "metadata": {},
     "output_type": "execute_result"
    }
   ],
   "source": [
    "df[\"Bonus\"] = pd.to_numeric(df[\"Yearly bonus + stocks in EUR\"], downcast=\"float\", errors=\"coerce\")\n",
    "df[\"Bonus\"].fillna(0, inplace=True)\n",
    "df[\"target\"] = df[\"Yearly brutto salary (without bonus and stocks) in EUR\"] + df[\"Bonus\"]\n",
    "df.drop(columns={\"Timestamp\",\"Yearly brutto salary (without bonus and stocks) in EUR\", \"Yearly bonus + stocks in EUR\", \"Bonus\"}, inplace=True)\n",
    "df.head()"
   ]
  },
  {
   "cell_type": "code",
   "execution_count": 8,
   "metadata": {},
   "outputs": [],
   "source": [
    "df_tmp = df[df.groupby(\"Position \")['Position '].transform('size') > 2 ]\n",
    "df_tmp = df[df.groupby(\"Other technologies/programming languages you use often\")[\"Other technologies/programming languages you use often\"].transform('size') > 2]\n",
    "df_tmp = df[df[\"target\"] < 250000]\n"
   ]
  },
  {
   "cell_type": "code",
   "execution_count": 9,
   "metadata": {},
   "outputs": [
    {
     "name": "stderr",
     "output_type": "stream",
     "text": [
      "c:\\Users\\rod\\anaconda3\\envs\\3450-Clone\\lib\\site-packages\\seaborn\\distributions.py:2619: FutureWarning: `distplot` is a deprecated function and will be removed in a future version. Please adapt your code to use either `displot` (a figure-level function with similar flexibility) or `histplot` (an axes-level function for histograms).\n",
      "  warnings.warn(msg, FutureWarning)\n"
     ]
    },
    {
     "data": {
      "text/plain": [
       "<AxesSubplot:xlabel='target', ylabel='Density'>"
      ]
     },
     "execution_count": 9,
     "metadata": {},
     "output_type": "execute_result"
    },
    {
     "data": {
      "image/png": "[encoded data removed]",
      "text/plain": [
       "<Figure size 432x288 with 1 Axes>"
      ]
     },
     "metadata": {
      "needs_background": "light"
     },
     "output_type": "display_data"
    }
   ],
   "source": [
    "sns.distplot(df_tmp['target'])"
   ]
  },
  {
   "cell_type": "code",
   "execution_count": 10,
   "metadata": {},
   "outputs": [
    {
     "data": {
      "text/plain": [
       "Age                                                       1212\n",
       "Gender                                                    1228\n",
       "City                                                      1237\n",
       "Position                                                  1232\n",
       "Total years of experience                                 1222\n",
       "Years of experience in Germany                            1207\n",
       "Seniority level                                           1226\n",
       "Your main technology / programming language               1113\n",
       "Other technologies/programming languages you use often    1085\n",
       "Number of vacation days                                   1172\n",
       "Employment status                                         1221\n",
       "Сontract duration                                         1211\n",
       "Main language at work                                     1222\n",
       "Company size                                              1221\n",
       "Company type                                              1214\n",
       "target                                                    1237\n",
       "dtype: int64"
      ]
     },
     "execution_count": 10,
     "metadata": {},
     "output_type": "execute_result"
    }
   ],
   "source": [
    "df_tmp.count()"
   ]
  },
  {
   "cell_type": "code",
   "execution_count": 11,
   "metadata": {},
   "outputs": [
    {
     "name": "stdout",
     "output_type": "stream",
     "text": [
      "<class 'pandas.core.frame.DataFrame'>\n",
      "Int64Index: 1237 entries, 0 to 1252\n",
      "Data columns (total 16 columns):\n",
      " #   Column                                                  Non-Null Count  Dtype  \n",
      "---  ------                                                  --------------  -----  \n",
      " 0   Age                                                     1212 non-null   float64\n",
      " 1   Gender                                                  1228 non-null   object \n",
      " 2   City                                                    1237 non-null   object \n",
      " 3   Position                                                1232 non-null   object \n",
      " 4   Total years of experience                               1222 non-null   object \n",
      " 5   Years of experience in Germany                          1207 non-null   object \n",
      " 6   Seniority level                                         1226 non-null   object \n",
      " 7   Your main technology / programming language             1113 non-null   object \n",
      " 8   Other technologies/programming languages you use often  1085 non-null   object \n",
      " 9   Number of vacation days                                 1172 non-null   object \n",
      " 10  Employment status                                       1221 non-null   object \n",
      " 11  Сontract duration                                       1211 non-null   object \n",
      " 12  Main language at work                                   1222 non-null   object \n",
      " 13  Company size                                            1221 non-null   object \n",
      " 14  Company type                                            1214 non-null   object \n",
      " 15  target                                                  1237 non-null   float64\n",
      "dtypes: float64(2), object(14)\n",
      "memory usage: 164.3+ KB\n"
     ]
    }
   ],
   "source": [
    "df_tmp.info()"
   ]
  },
  {
   "cell_type": "code",
   "execution_count": 12,
   "metadata": {},
   "outputs": [],
   "source": [
    "def replace_low_freq(d, col, threshold=10, replacement='other'):\n",
    "    value_counts = d[col].value_counts() # Specific column \n",
    "    to_remove = value_counts[value_counts <= threshold].index\n",
    "    tmp = d[col].replace(to_replace=to_remove, value=replacement)\n",
    "    return tmp"
   ]
  },
  {
   "cell_type": "code",
   "execution_count": 13,
   "metadata": {},
   "outputs": [
    {
     "name": "stderr",
     "output_type": "stream",
     "text": [
      "C:\\Users\\rod\\AppData\\Local\\Temp\\ipykernel_13476\\3436751890.py:1: SettingWithCopyWarning: \n",
      "A value is trying to be set on a copy of a slice from a DataFrame.\n",
      "Try using .loc[row_indexer,col_indexer] = value instead\n",
      "\n",
      "See the caveats in the documentation: https://pandas.pydata.org/pandas-docs/stable/user_guide/indexing.html#returning-a-view-versus-a-copy\n",
      "  df_tmp[\"Other technologies/programming languages you use often\"] = replace_low_freq(df_tmp, \"Other technologies/programming languages you use often\", 0, \"Other\")\n"
     ]
    },
    {
     "data": {
      "text/plain": [
       "Javascript / Typescript                                           43\n",
       "Python                                                            36\n",
       "SQL                                                               31\n",
       "AWS, Docker                                                       16\n",
       "Kotlin                                                            15\n",
       "                                                                  ..\n",
       "Python, Java / Scala, R, SQL, AWS, Azure                           1\n",
       "SQL, AWS, Google Cloud, Kubernetes, Docker                         1\n",
       "Javascript / Typescript, Java / Scala, AWS, Kubernetes, Docker     1\n",
       "Kotlin, Java / Scala, SQL, Kubernetes, Docker                      1\n",
       "Python, AWS, Kubernetes, Docker, terraform, ansible                1\n",
       "Name: Other technologies/programming languages you use often, Length: 557, dtype: int64"
      ]
     },
     "execution_count": 13,
     "metadata": {},
     "output_type": "execute_result"
    }
   ],
   "source": [
    "df_tmp[\"Other technologies/programming languages you use often\"] = replace_low_freq(df_tmp, \"Other technologies/programming languages you use often\", 0, \"Other\")\n",
    "df_tmp['Other technologies/programming languages you use often'].value_counts()"
   ]
  },
  {
   "cell_type": "code",
   "execution_count": 14,
   "metadata": {},
   "outputs": [
    {
     "name": "stderr",
     "output_type": "stream",
     "text": [
      "C:\\Users\\rod\\AppData\\Local\\Temp\\ipykernel_13476\\927345426.py:1: SettingWithCopyWarning: \n",
      "A value is trying to be set on a copy of a slice from a DataFrame.\n",
      "Try using .loc[row_indexer,col_indexer] = value instead\n",
      "\n",
      "See the caveats in the documentation: https://pandas.pydata.org/pandas-docs/stable/user_guide/indexing.html#returning-a-view-versus-a-copy\n",
      "  df_tmp[\"Your main technology / programming language\"] = replace_low_freq(df_tmp, \"Your main technology / programming language\", 10, \"Other\")\n"
     ]
    },
    {
     "data": {
      "text/plain": [
       "Other         371\n",
       "Java          182\n",
       "Python        164\n",
       "PHP            56\n",
       "C++            36\n",
       "JavaScript     34\n",
       "Javascript     31\n",
       "C#             30\n",
       "python         26\n",
       "Scala          24\n",
       "Go             23\n",
       "Swift          23\n",
       "Kotlin         22\n",
       "Python         20\n",
       "Ruby           19\n",
       "SQL            14\n",
       "TypeScript     13\n",
       ".NET           13\n",
       "JS             12\n",
       "Name: Your main technology / programming language, dtype: int64"
      ]
     },
     "execution_count": 14,
     "metadata": {},
     "output_type": "execute_result"
    }
   ],
   "source": [
    "df_tmp[\"Your main technology / programming language\"] = replace_low_freq(df_tmp, \"Your main technology / programming language\", 10, \"Other\")\n",
    "df_tmp[\"Your main technology / programming language\"].value_counts()"
   ]
  },
  {
   "cell_type": "code",
   "execution_count": 15,
   "metadata": {},
   "outputs": [
    {
     "name": "stderr",
     "output_type": "stream",
     "text": [
      "C:\\Users\\rod\\AppData\\Local\\Temp\\ipykernel_13476\\232549923.py:1: SettingWithCopyWarning: \n",
      "A value is trying to be set on a copy of a slice from a DataFrame\n",
      "\n",
      "See the caveats in the documentation: https://pandas.pydata.org/pandas-docs/stable/user_guide/indexing.html#returning-a-view-versus-a-copy\n",
      "  df_tmp[\"Your main technology / programming language\"].replace({\"Javascript\": \"JavaScript\", \"Python \":\"Python\"}, inplace=True)\n"
     ]
    },
    {
     "data": {
      "text/plain": [
       "Other         371\n",
       "Python        184\n",
       "Java          182\n",
       "JavaScript     65\n",
       "PHP            56\n",
       "C++            36\n",
       "C#             30\n",
       "python         26\n",
       "Scala          24\n",
       "Go             23\n",
       "Swift          23\n",
       "Kotlin         22\n",
       "Ruby           19\n",
       "SQL            14\n",
       "TypeScript     13\n",
       ".NET           13\n",
       "JS             12\n",
       "Name: Your main technology / programming language, dtype: int64"
      ]
     },
     "execution_count": 15,
     "metadata": {},
     "output_type": "execute_result"
    }
   ],
   "source": [
    "df_tmp[\"Your main technology / programming language\"].replace({\"Javascript\": \"JavaScript\", \"Python \":\"Python\"}, inplace=True)\n",
    "df_tmp[\"Your main technology / programming language\"].value_counts()"
   ]
  },
  {
   "cell_type": "code",
   "execution_count": 16,
   "metadata": {},
   "outputs": [
    {
     "name": "stderr",
     "output_type": "stream",
     "text": [
      "C:\\Users\\rod\\AppData\\Local\\Temp\\ipykernel_13476\\1394189939.py:1: SettingWithCopyWarning: \n",
      "A value is trying to be set on a copy of a slice from a DataFrame.\n",
      "Try using .loc[row_indexer,col_indexer] = value instead\n",
      "\n",
      "See the caveats in the documentation: https://pandas.pydata.org/pandas-docs/stable/user_guide/indexing.html#returning-a-view-versus-a-copy\n",
      "  df_tmp[\"City\"] = replace_low_freq(df_tmp, \"City\", 10, \"Other\")\n"
     ]
    },
    {
     "data": {
      "text/plain": [
       "Berlin       671\n",
       "Munich       234\n",
       "Other        203\n",
       "Frankfurt     44\n",
       "Hamburg       40\n",
       "Stuttgart     26\n",
       "Cologne       19\n",
       "Name: City, dtype: int64"
      ]
     },
     "execution_count": 16,
     "metadata": {},
     "output_type": "execute_result"
    }
   ],
   "source": [
    "df_tmp[\"City\"] = replace_low_freq(df_tmp, \"City\", 10, \"Other\")\n",
    "df_tmp[\"City\"].value_counts()"
   ]
  },
  {
   "cell_type": "code",
   "execution_count": 17,
   "metadata": {},
   "outputs": [],
   "source": [
    "#This function allows to change the comma\n",
    "#gets 2 arguments, the df and the column name\n",
    "\n",
    "def replace_comma(df, column_name):\n",
    "    for i, row in df.iterrows():\n",
    "        value = row[column_name]\n",
    "        if isinstance(value, str):\n",
    "            df.at[i, column_name] = value.replace(',','.')\n",
    "        else:\n",
    "            df.at[i, column_name] = value"
   ]
  },
  {
   "attachments": {},
   "cell_type": "markdown",
   "metadata": {},
   "source": [
    "Some of the numbers are separated by comma to denote a floating point number, i.e. 1,5 years instead of 1.5. To replace them, I used the function above."
   ]
  },
  {
   "cell_type": "code",
   "execution_count": 18,
   "metadata": {},
   "outputs": [],
   "source": [
    "replace_comma(df_tmp, 'Total years of experience')\n",
    "replace_comma(df_tmp, 'Years of experience in Germany')\n",
    "replace_comma(df_tmp, 'Number of vacation days')"
   ]
  },
  {
   "attachments": {},
   "cell_type": "markdown",
   "metadata": {},
   "source": [
    "I replaced some values manually. Some of them are long text and only used the numeric values."
   ]
  },
  {
   "cell_type": "code",
   "execution_count": null,
   "metadata": {},
   "outputs": [],
   "source": [
    "df_tmp['Total years of experience'].replace(to_replace= ['1 (as QA Engineer) / 11 in total'], value= 11, inplace=True)\n",
    "df_tmp['Total years of experience'].replace(to_replace= ['15. thereof 8 as CTO'], value= 15, inplace=True)\n",
    "df_tmp['Total years of experience'].replace(to_replace= ['6 (not as a data scientist. but as a lab scientist)'], value= 6, inplace=True)\n",
    "df_tmp['Total years of experience'].replace(to_replace= ['less than year'], value= 1, inplace=True)\n",
    "#df['Column1'].replace(to_replace=[1, 5], value=1.5, inplace=True)"
   ]
  },
  {
   "cell_type": "code",
   "execution_count": null,
   "metadata": {},
   "outputs": [],
   "source": [
    "df_tmp['Years of experience in Germany'].replace(to_replace= ['< 1', '4 month', '3 months','<1', 'less than year', ], value= 1, inplace=True)\n",
    "df_tmp['Years of experience in Germany'].replace(to_replace= ['4 (in Switzerland). 0 (in Germany)', '3 (in Poland)', '⁰', '-'], value= 0, inplace=True)\n",
    "df_tmp['Years of experience in Germany'].replace(to_replace= ['6 (not as a data scientist. but as a lab scientist)'], value= 6, inplace=True)"
   ]
  },
  {
   "cell_type": "code",
   "execution_count": null,
   "metadata": {},
   "outputs": [],
   "source": [
    "df_tmp['Number of vacation days'].replace(to_replace= ['unlimited', 'unlimited ','30 in contract (but theoretically unlimited)', 'Unlimited ', 'Unlimited'], value= 15, inplace=True) # will replace to the max value\n",
    "df_tmp['Number of vacation days'].replace(to_replace= ['(no idea)'], value= 10, inplace=True) # will replace to mode value later\n",
    "df_tmp['Number of vacation days'].replace(to_replace= ['~25'], value= 25, inplace=True)\n",
    "df_tmp['Number of vacation days'].replace(to_replace= ['23+'], value= 23, inplace=True)\n",
    "df_tmp['Number of vacation days'].replace(to_replace= ['24 labour days'], value= 24, inplace=True)"
   ]
  },
  {
   "cell_type": "code",
   "execution_count": null,
   "metadata": {},
   "outputs": [],
   "source": [
    "df_tmp['Total years of experience'] = df_tmp['Total years of experience'].astype('float64')\n",
    "df_tmp['Years of experience in Germany'] = df_tmp['Years of experience in Germany'].astype('float64')\n",
    "df_tmp['Number of vacation days'] = df_tmp['Number of vacation days'].astype('float64')"
   ]
  },
  {
   "cell_type": "code",
   "execution_count": null,
   "metadata": {},
   "outputs": [],
   "source": [
    "df_tmp['Number of vacation days'].replace(to_replace= ['unlimited', 'unlimited ','30 in contract (but theoretically unlimited)', 'Unlimited ', 'Unlimited'], value= df_tmp['Number of vacation days'].quantile(0.75), inplace=True) # will replace to the max value\n",
    "df_tmp['Number of vacation days'].replace(to_replace= ['(no idea)'], value= df_tmp['Number of vacation days'].mode(), inplace=True) # will replace to mode value later"
   ]
  },
  {
   "cell_type": "code",
   "execution_count": 24,
   "metadata": {},
   "outputs": [
    {
     "name": "stdout",
     "output_type": "stream",
     "text": [
      "<class 'pandas.core.frame.DataFrame'>\n",
      "Int64Index: 1237 entries, 0 to 1252\n",
      "Data columns (total 16 columns):\n",
      " #   Column                                                  Non-Null Count  Dtype  \n",
      "---  ------                                                  --------------  -----  \n",
      " 0   Age                                                     1212 non-null   float64\n",
      " 1   Gender                                                  1228 non-null   object \n",
      " 2   City                                                    1237 non-null   object \n",
      " 3   Position                                                1232 non-null   object \n",
      " 4   Total years of experience                               1222 non-null   float64\n",
      " 5   Years of experience in Germany                          1207 non-null   float64\n",
      " 6   Seniority level                                         1226 non-null   object \n",
      " 7   Your main technology / programming language             1113 non-null   object \n",
      " 8   Other technologies/programming languages you use often  1085 non-null   object \n",
      " 9   Number of vacation days                                 1172 non-null   float64\n",
      " 10  Employment status                                       1221 non-null   object \n",
      " 11  Сontract duration                                       1211 non-null   object \n",
      " 12  Main language at work                                   1222 non-null   object \n",
      " 13  Company size                                            1221 non-null   object \n",
      " 14  Company type                                            1214 non-null   object \n",
      " 15  target                                                  1237 non-null   float64\n",
      "dtypes: float64(5), object(11)\n",
      "memory usage: 196.6+ KB\n"
     ]
    }
   ],
   "source": [
    "df_tmp.info()"
   ]
  },
  {
   "cell_type": "code",
   "execution_count": 25,
   "metadata": {},
   "outputs": [
    {
     "name": "stderr",
     "output_type": "stream",
     "text": [
      "c:\\Users\\rod\\anaconda3\\envs\\3450-Clone\\lib\\site-packages\\seaborn\\_decorators.py:36: FutureWarning: Pass the following variable as a keyword arg: x. From version 0.12, the only valid positional argument will be `data`, and passing other arguments without an explicit keyword will result in an error or misinterpretation.\n",
      "  warnings.warn(\n"
     ]
    },
    {
     "data": {
      "text/plain": [
       "<AxesSubplot:xlabel='Years of experience in Germany', ylabel='count'>"
      ]
     },
     "execution_count": 25,
     "metadata": {},
     "output_type": "execute_result"
    },
    {
     "data": {
      "image/png": "[encoded data removed]",
      "text/plain": [
       "<Figure size 432x288 with 1 Axes>"
      ]
     },
     "metadata": {
      "needs_background": "light"
     },
     "output_type": "display_data"
    }
   ],
   "source": [
    "sns.countplot(df_tmp['Years of experience in Germany'])"
   ]
  },
  {
   "cell_type": "code",
   "execution_count": 26,
   "metadata": {},
   "outputs": [
    {
     "name": "stderr",
     "output_type": "stream",
     "text": [
      "c:\\Users\\rod\\anaconda3\\envs\\3450-Clone\\lib\\site-packages\\seaborn\\distributions.py:2619: FutureWarning: `distplot` is a deprecated function and will be removed in a future version. Please adapt your code to use either `displot` (a figure-level function with similar flexibility) or `histplot` (an axes-level function for histograms).\n",
      "  warnings.warn(msg, FutureWarning)\n"
     ]
    },
    {
     "data": {
      "text/plain": [
       "<AxesSubplot:xlabel='Total years of experience', ylabel='Density'>"
      ]
     },
     "execution_count": 26,
     "metadata": {},
     "output_type": "execute_result"
    },
    {
     "data": {
      "image/png": "[encoded data removed]",
      "text/plain": [
       "<Figure size 432x288 with 1 Axes>"
      ]
     },
     "metadata": {
      "needs_background": "light"
     },
     "output_type": "display_data"
    }
   ],
   "source": [
    "sns.distplot(df_tmp['Total years of experience'])"
   ]
  },
  {
   "cell_type": "code",
   "execution_count": 27,
   "metadata": {},
   "outputs": [
    {
     "data": {
      "text/plain": [
       "count    1222.000000\n",
       "mean        9.029951\n",
       "std        11.928410\n",
       "min         0.000000\n",
       "25%         5.000000\n",
       "50%         8.000000\n",
       "75%        12.000000\n",
       "max       383.000000\n",
       "Name: Total years of experience, dtype: float64"
      ]
     },
     "execution_count": 27,
     "metadata": {},
     "output_type": "execute_result"
    }
   ],
   "source": [
    "df_tmp['Total years of experience'].describe()"
   ]
  },
  {
   "cell_type": "code",
   "execution_count": 28,
   "metadata": {},
   "outputs": [],
   "source": [
    "df_tmp = df_tmp[df_tmp['Total years of experience'] < 50]"
   ]
  },
  {
   "cell_type": "code",
   "execution_count": 30,
   "metadata": {},
   "outputs": [
    {
     "name": "stderr",
     "output_type": "stream",
     "text": [
      "c:\\Users\\rod\\anaconda3\\envs\\3450-Clone\\lib\\site-packages\\seaborn\\distributions.py:2619: FutureWarning: `distplot` is a deprecated function and will be removed in a future version. Please adapt your code to use either `displot` (a figure-level function with similar flexibility) or `histplot` (an axes-level function for histograms).\n",
      "  warnings.warn(msg, FutureWarning)\n"
     ]
    },
    {
     "data": {
      "text/plain": [
       "<AxesSubplot:xlabel='Years of experience in Germany', ylabel='Density'>"
      ]
     },
     "execution_count": 30,
     "metadata": {},
     "output_type": "execute_result"
    },
    {
     "data": {
      "image/png": "[encoded data removed]",
      "text/plain": [
       "<Figure size 432x288 with 1 Axes>"
      ]
     },
     "metadata": {
      "needs_background": "light"
     },
     "output_type": "display_data"
    }
   ],
   "source": [
    "sns.distplot(df_tmp['Years of experience in Germany'])"
   ]
  },
  {
   "cell_type": "code",
   "execution_count": 31,
   "metadata": {},
   "outputs": [
    {
     "data": {
      "text/html": [
       "<div>\n",
       "<style scoped>\n",
       "    .dataframe tbody tr th:only-of-type {\n",
       "        vertical-align: middle;\n",
       "    }\n",
       "\n",
       "    .dataframe tbody tr th {\n",
       "        vertical-align: top;\n",
       "    }\n",
       "\n",
       "    .dataframe thead th {\n",
       "        text-align: right;\n",
       "    }\n",
       "</style>\n",
       "<table border=\"1\" class=\"dataframe\">\n",
       "  <thead>\n",
       "    <tr style=\"text-align: right;\">\n",
       "      <th></th>\n",
       "      <th>Age</th>\n",
       "      <th>Total years of experience</th>\n",
       "      <th>Years of experience in Germany</th>\n",
       "      <th>Number of vacation days</th>\n",
       "      <th>target</th>\n",
       "    </tr>\n",
       "  </thead>\n",
       "  <tbody>\n",
       "    <tr>\n",
       "      <th>count</th>\n",
       "      <td>1203.000000</td>\n",
       "      <td>1221.000000</td>\n",
       "      <td>1196.000000</td>\n",
       "      <td>1163.000000</td>\n",
       "      <td>1221.000000</td>\n",
       "    </tr>\n",
       "    <tr>\n",
       "      <th>mean</th>\n",
       "      <td>32.423109</td>\n",
       "      <td>8.723669</td>\n",
       "      <td>3.676839</td>\n",
       "      <td>28.194755</td>\n",
       "      <td>81661.707273</td>\n",
       "    </tr>\n",
       "    <tr>\n",
       "      <th>std</th>\n",
       "      <td>5.540926</td>\n",
       "      <td>5.260761</td>\n",
       "      <td>3.554786</td>\n",
       "      <td>10.621283</td>\n",
       "      <td>35713.860262</td>\n",
       "    </tr>\n",
       "    <tr>\n",
       "      <th>min</th>\n",
       "      <td>20.000000</td>\n",
       "      <td>0.000000</td>\n",
       "      <td>0.000000</td>\n",
       "      <td>0.000000</td>\n",
       "      <td>10001.000000</td>\n",
       "    </tr>\n",
       "    <tr>\n",
       "      <th>25%</th>\n",
       "      <td>29.000000</td>\n",
       "      <td>5.000000</td>\n",
       "      <td>1.000000</td>\n",
       "      <td>27.000000</td>\n",
       "      <td>60000.000000</td>\n",
       "    </tr>\n",
       "    <tr>\n",
       "      <th>50%</th>\n",
       "      <td>32.000000</td>\n",
       "      <td>8.000000</td>\n",
       "      <td>3.000000</td>\n",
       "      <td>28.000000</td>\n",
       "      <td>73000.000000</td>\n",
       "    </tr>\n",
       "    <tr>\n",
       "      <th>75%</th>\n",
       "      <td>35.000000</td>\n",
       "      <td>12.000000</td>\n",
       "      <td>5.000000</td>\n",
       "      <td>30.000000</td>\n",
       "      <td>90000.000000</td>\n",
       "    </tr>\n",
       "    <tr>\n",
       "      <th>max</th>\n",
       "      <td>66.000000</td>\n",
       "      <td>40.000000</td>\n",
       "      <td>30.000000</td>\n",
       "      <td>365.000000</td>\n",
       "      <td>240000.000000</td>\n",
       "    </tr>\n",
       "  </tbody>\n",
       "</table>\n",
       "</div>"
      ],
      "text/plain": [
       "               Age  Total years of experience  Years of experience in Germany  \\\n",
       "count  1203.000000                1221.000000                     1196.000000   \n",
       "mean     32.423109                   8.723669                        3.676839   \n",
       "std       5.540926                   5.260761                        3.554786   \n",
       "min      20.000000                   0.000000                        0.000000   \n",
       "25%      29.000000                   5.000000                        1.000000   \n",
       "50%      32.000000                   8.000000                        3.000000   \n",
       "75%      35.000000                  12.000000                        5.000000   \n",
       "max      66.000000                  40.000000                       30.000000   \n",
       "\n",
       "       Number of vacation days         target  \n",
       "count              1163.000000    1221.000000  \n",
       "mean                 28.194755   81661.707273  \n",
       "std                  10.621283   35713.860262  \n",
       "min                   0.000000   10001.000000  \n",
       "25%                  27.000000   60000.000000  \n",
       "50%                  28.000000   73000.000000  \n",
       "75%                  30.000000   90000.000000  \n",
       "max                 365.000000  240000.000000  "
      ]
     },
     "execution_count": 31,
     "metadata": {},
     "output_type": "execute_result"
    }
   ],
   "source": [
    "df_tmp.describe()"
   ]
  },
  {
   "cell_type": "code",
   "execution_count": 32,
   "metadata": {},
   "outputs": [],
   "source": [
    "df_tmp = df_tmp[df_tmp['Number of vacation days'] < 50]"
   ]
  },
  {
   "cell_type": "code",
   "execution_count": 33,
   "metadata": {},
   "outputs": [
    {
     "name": "stdout",
     "output_type": "stream",
     "text": [
      "<class 'pandas.core.frame.DataFrame'>\n",
      "Int64Index: 1160 entries, 0 to 1252\n",
      "Data columns (total 16 columns):\n",
      " #   Column                                                  Non-Null Count  Dtype  \n",
      "---  ------                                                  --------------  -----  \n",
      " 0   Age                                                     1144 non-null   float64\n",
      " 1   Gender                                                  1155 non-null   object \n",
      " 2   City                                                    1160 non-null   object \n",
      " 3   Position                                                1158 non-null   object \n",
      " 4   Total years of experience                               1160 non-null   float64\n",
      " 5   Years of experience in Germany                          1137 non-null   float64\n",
      " 6   Seniority level                                         1154 non-null   object \n",
      " 7   Your main technology / programming language             1059 non-null   object \n",
      " 8   Other technologies/programming languages you use often  1029 non-null   object \n",
      " 9   Number of vacation days                                 1160 non-null   float64\n",
      " 10  Employment status                                       1157 non-null   object \n",
      " 11  Сontract duration                                       1151 non-null   object \n",
      " 12  Main language at work                                   1156 non-null   object \n",
      " 13  Company size                                            1158 non-null   object \n",
      " 14  Company type                                            1152 non-null   object \n",
      " 15  target                                                  1160 non-null   float64\n",
      "dtypes: float64(5), object(11)\n",
      "memory usage: 154.1+ KB\n"
     ]
    }
   ],
   "source": [
    "df_tmp.info()"
   ]
  },
  {
   "cell_type": "code",
   "execution_count": 34,
   "metadata": {},
   "outputs": [
    {
     "name": "stderr",
     "output_type": "stream",
     "text": [
      "c:\\Users\\rod\\anaconda3\\envs\\3450-Clone\\lib\\site-packages\\seaborn\\distributions.py:2619: FutureWarning: `distplot` is a deprecated function and will be removed in a future version. Please adapt your code to use either `displot` (a figure-level function with similar flexibility) or `histplot` (an axes-level function for histograms).\n",
      "  warnings.warn(msg, FutureWarning)\n"
     ]
    },
    {
     "data": {
      "text/plain": [
       "<AxesSubplot:xlabel='target', ylabel='Density'>"
      ]
     },
     "execution_count": 34,
     "metadata": {},
     "output_type": "execute_result"
    },
    {
     "data": {
      "image/png": "[encoded data removed]",
      "text/plain": [
       "<Figure size 432x288 with 1 Axes>"
      ]
     },
     "metadata": {
      "needs_background": "light"
     },
     "output_type": "display_data"
    }
   ],
   "source": [
    "sns.distplot(df_tmp['target'])"
   ]
  },
  {
   "cell_type": "code",
   "execution_count": 36,
   "metadata": {},
   "outputs": [],
   "source": [
    "numeric_features = [\"Age\", \"Total years of experience\", \"Years of experience in Germany\", \"Number of vacation days\"]\n",
    "categorical_features = [\"Gender\", \"City\", \"Position \", \"Seniority level\", \"Your main technology / programming language\", \"Other technologies/programming languages you use often\", \n",
    "                        \"Employment status\", \"Сontract duration\", \"Main language at work\", \"Company size\", \"Company type\"]"
   ]
  },
  {
   "cell_type": "code",
   "execution_count": 37,
   "metadata": {},
   "outputs": [],
   "source": [
    "for col in numeric_features:\n",
    "    df_tmp[col]=df_tmp[col].astype(float)\n",
    "for col in categorical_features:\n",
    "    df_tmp[col]=df_tmp[col].astype(\"category\")"
   ]
  },
  {
   "attachments": {},
   "cell_type": "markdown",
   "metadata": {},
   "source": [
    "Data Imputation and Column Transformation"
   ]
  },
  {
   "cell_type": "code",
   "execution_count": 39,
   "metadata": {},
   "outputs": [
    {
     "name": "stdout",
     "output_type": "stream",
     "text": [
      "Training CrossVal Score: [0.1737445  0.22370835 0.0066556  0.01244536 0.23303798]\n",
      "Average Train Score: 0.1299183558959681\n",
      "Testing score: 0.18767039047031753\n",
      "RMSE: 31700.35\n",
      "R2: 0.18767039047031753\n"
     ]
    }
   ],
   "source": [
    "\n",
    "numeric_transformer = Pipeline( steps=[\n",
    "        (\"imputer\", SimpleImputer(strategy=\"mean\")),\n",
    "        (\"scaler\", StandardScaler())\n",
    "    ])\n",
    "\n",
    "categorical_transformer = OneHotEncoder(handle_unknown=\"ignore\")\n",
    "\n",
    "preprocessor = ColumnTransformer( transformers=[\n",
    "        (\"num\", numeric_transformer, numeric_features),\n",
    "        (\"cat\", categorical_transformer, categorical_features),\n",
    "    ])\n",
    "\n",
    "#Split data as normal\n",
    "y = df_tmp[\"target\"]\n",
    "x = df_tmp.drop(columns={\"target\"})\n",
    "\n",
    "#Build pipeline\n",
    "l1_model = Lasso()\n",
    "l2_model = Ridge()\n",
    "pipeline_steps = [('pre', preprocessor),('model', l2_model) ]\n",
    "pipe = Pipeline(pipeline_steps)\n",
    "\n",
    "X_train, X_test, y_train, y_test = train_test_split(x, y)\n",
    "# The pipeline can be used as any other estimator\n",
    "# and avoids leaking the test set into the train set\n",
    "\n",
    "pipe.fit(X_train, y_train)\n",
    "cvs = cross_val_score(pipe, X_train, y_train.ravel(), cv=5)\n",
    "y_pred = pipe.predict(X_test)\n",
    "print('Training CrossVal Score:', cvs)\n",
    "print(\"Average Train Score:\", np.mean(cvs))\n",
    "print('Testing score:', pipe.score(X_test, y_test))\n",
    "print('RMSE: {:.2f}'.format(np.sqrt(mean_squared_error(y_test, y_pred))))\n",
    "print(\"R2:\", r2_score(y_test, y_pred))"
   ]
  },
  {
   "attachments": {},
   "cell_type": "markdown",
   "metadata": {},
   "source": [
    "Elastic Net Regressor"
   ]
  },
  {
   "cell_type": "code",
   "execution_count": 40,
   "metadata": {},
   "outputs": [
    {
     "name": "stdout",
     "output_type": "stream",
     "text": [
      "0.21099560571010023\n",
      "Pipeline(steps=[('pre',\n",
      "                 ColumnTransformer(transformers=[('num',\n",
      "                                                  Pipeline(steps=[('imputer',\n",
      "                                                                   SimpleImputer()),\n",
      "                                                                  ('scaler',\n",
      "                                                                   StandardScaler())]),\n",
      "                                                  ['Age',\n",
      "                                                   'Total years of experience',\n",
      "                                                   'Years of experience in '\n",
      "                                                   'Germany',\n",
      "                                                   'Number of vacation days']),\n",
      "                                                 ('cat',\n",
      "                                                  OneHotEncoder(handle_unknown='ignore'),\n",
      "                                                  ['Gender', 'City',\n",
      "                                                   'Position ',\n",
      "                                                   'Seniority level',\n",
      "                                                   'Your main technology / '\n",
      "                                                   'programming language',\n",
      "                                                   'Other '\n",
      "                                                   'technologies/programming '\n",
      "                                                   'languages you use often',\n",
      "                                                   'Employment status',\n",
      "                                                   'Сontract duration',\n",
      "                                                   'Main language at work',\n",
      "                                                   'Company size',\n",
      "                                                   'Company type'])])),\n",
      "                ('model', ElasticNet(l1_ratio=0.9, max_iter=20000))])\n",
      "RMSE: 31241.92\n",
      "R2: 0.21099560571010023\n"
     ]
    }
   ],
   "source": [
    "from sklearn.linear_model import ElasticNet\n",
    "#Prep pipeline and model with grid\n",
    "el_model = ElasticNet(max_iter=20000)\n",
    "pipeline_steps = [('pre', preprocessor),('model', el_model) ]\n",
    "pipe3 = Pipeline(pipeline_steps)\n",
    "params = {'model__l1_ratio':[0,.1,.2,.3,.4,.5,.6,.7,.8,.9,1]}\n",
    " \n",
    "est = GridSearchCV(pipe3, param_grid=params, cv=5, n_jobs=-1) \n",
    "est.fit(X_train, y_train.ravel())\n",
    "best = est.best_estimator_\n",
    "y_pred = best.predict(X_test)\n",
    "print(best.score(X_test, y_test.ravel()))\n",
    "print(best)\n",
    "print('RMSE: {:.2f}'.format(np.sqrt(mean_squared_error(y_test, y_pred))))\n",
    "print(\"R2:\", r2_score(y_test, y_pred))"
   ]
  },
  {
   "attachments": {},
   "cell_type": "markdown",
   "metadata": {},
   "source": [
    "SGD Regressor"
   ]
  },
  {
   "cell_type": "code",
   "execution_count": 64,
   "metadata": {},
   "outputs": [
    {
     "name": "stdout",
     "output_type": "stream",
     "text": [
      "0.046875\n",
      "Training CrossVal Score: [ 0.12393751  0.17918628 -0.04654243 -0.03537358  0.20073624]\n",
      "Testing score: 0.16393490267683175\n",
      "RMSE: 32160.15\n"
     ]
    }
   ],
   "source": [
    "#SGD Regressor. \n",
    "pipe_SGD_steps = [('pre', preprocessor), ('scale', MaxAbsScaler()), ('model', SGDRegressor(max_iter=10000, eta0=.1))]\n",
    "pipe_SGD = Pipeline(pipe_SGD_steps)\n",
    "\n",
    "start = time.process_time()\n",
    "pipe_SGD.fit(X_train, y_train.ravel())\n",
    "print(time.process_time() - start)\n",
    "\n",
    "#Print best model and test score\n",
    "print('Training CrossVal Score:', cross_val_score(pipe_SGD, X_train, y_train.ravel(), cv=5))\n",
    "print('Testing score:', pipe_SGD.score(X_test, y_test))\n",
    "y_pred = pipe_SGD.predict(X_test)\n",
    "print('RMSE: {:.2f}'.format(np.sqrt(mean_squared_error(y_test, y_pred))))"
   ]
  },
  {
   "attachments": {},
   "cell_type": "markdown",
   "metadata": {},
   "source": [
    "Random Forest Regressor"
   ]
  },
  {
   "cell_type": "code",
   "execution_count": 61,
   "metadata": {},
   "outputs": [
    {
     "name": "stdout",
     "output_type": "stream",
     "text": [
      "Training Accuracy: 0.892502615323118\n",
      "Training RMSE: 11723.99\n",
      "Testing Accuracy: 0.2912460383673896\n",
      "Testing RMSE: 29610.50\n"
     ]
    }
   ],
   "source": [
    "# Build the pipeline\n",
    "pipeline = Pipeline([\n",
    "    (\"preprocessor\", preprocessor),\n",
    "    (\"model\", RandomForestRegressor(n_jobs=-1, n_estimators=300))\n",
    "])\n",
    "# Fit the pipeline to the training data\n",
    "\n",
    "pipeline.fit(X_train, y_train)\n",
    "\n",
    "y_pred = pipeline.predict(X_test)\n",
    "\n",
    "# Evaluate the pipeline on the training and testing data\n",
    "print(\"Training Accuracy:\", pipeline.score(X_train, y_train))\n",
    "print(\"Training RMSE: {:.2f}\".format(np.sqrt(mean_squared_error(y_train, pipeline.predict(X_train)))))\n",
    "print(\"Testing Accuracy:\", r2_score(y_test, y_pred))\n",
    "print(\"Testing RMSE: {:.2f}\".format(np.sqrt(mean_squared_error(y_test, y_pred))))"
   ]
  },
  {
   "attachments": {},
   "cell_type": "markdown",
   "metadata": {},
   "source": [
    "Parameter tuning with Gridsearch CV"
   ]
  },
  {
   "cell_type": "code",
   "execution_count": 47,
   "metadata": {},
   "outputs": [
    {
     "name": "stdout",
     "output_type": "stream",
     "text": [
      "0.28677642609251197\n",
      "Pipeline(steps=[('preprocessor',\n",
      "                 ColumnTransformer(transformers=[('num',\n",
      "                                                  Pipeline(steps=[('imputer',\n",
      "                                                                   SimpleImputer()),\n",
      "                                                                  ('scaler',\n",
      "                                                                   StandardScaler())]),\n",
      "                                                  ['Age',\n",
      "                                                   'Total years of experience',\n",
      "                                                   'Years of experience in '\n",
      "                                                   'Germany',\n",
      "                                                   'Number of vacation days']),\n",
      "                                                 ('cat',\n",
      "                                                  OneHotEncoder(handle_unknown='ignore'),\n",
      "                                                  ['Gender', 'City',\n",
      "                                                   'Position ',\n",
      "                                                   'Seniority level',\n",
      "                                                   'Your main technology / '\n",
      "                                                   'programming language',\n",
      "                                                   'Other '\n",
      "                                                   'technologies/programming '\n",
      "                                                   'languages you use often',\n",
      "                                                   'Employment status',\n",
      "                                                   'Сontract duration',\n",
      "                                                   'Main language at work',\n",
      "                                                   'Company size',\n",
      "                                                   'Company type'])])),\n",
      "                ('forest',\n",
      "                 RandomForestRegressor(max_depth=15, max_features=80,\n",
      "                                       n_estimators=300, n_jobs=-1))])\n"
     ]
    }
   ],
   "source": [
    "estimator_ = RandomForestRegressor(n_jobs=-1)\n",
    "pipe_ = Pipeline(steps=[(\"preprocessor\", preprocessor), (\"forest\", estimator_)])\n",
    "\n",
    "params_ = {'forest__max_depth':[5, 7, 9, 11, 13, 15], \n",
    "            \"forest__n_estimators\":[100, 200, 300, 400, 500],\n",
    "            \"forest__max_features\":[20, 30, 40, 50, 60, 70, 80, 90]}\n",
    " \n",
    "clf_ = GridSearchCV(pipe_, param_grid=params_, cv=5, n_jobs=-1) \n",
    "clf_.fit(X_train, y_train.ravel())\n",
    "best_ = clf_.best_estimator_\n",
    "print(best_.score(X_test, y_test))\n",
    "print(best_)"
   ]
  },
  {
   "attachments": {},
   "cell_type": "markdown",
   "metadata": {},
   "source": [
    "Using the generated best model after Gridsearch CV."
   ]
  },
  {
   "cell_type": "code",
   "execution_count": 53,
   "metadata": {},
   "outputs": [
    {
     "name": "stdout",
     "output_type": "stream",
     "text": [
      "Testing score: 0.28714170340225753\n",
      "RMSE: 29696.11\n",
      "R2: 0.28714170340225753\n"
     ]
    }
   ],
   "source": [
    "model =  RandomForestRegressor(max_depth=15, max_features=80,\n",
    "                                       n_estimators=300, n_jobs=-1)\n",
    "\n",
    "pipeline_steps = [('pre', preprocessor),('model', model) ]\n",
    "pipe = Pipeline(pipeline_steps)\n",
    "\n",
    "pipe.fit(X_train, y_train)\n",
    "\n",
    "y_pred = pipe.predict(X_test)\n",
    "print('Testing score:', pipe.score(X_test, y_test))\n",
    "print('RMSE: {:.2f}'.format(np.sqrt(mean_squared_error(y_test, y_pred))))"
   ]
  },
  {
   "attachments": {},
   "cell_type": "markdown",
   "metadata": {},
   "source": [
    "Getting the optimal number of features using RFECV"
   ]
  },
  {
   "cell_type": "code",
   "execution_count": null,
   "metadata": {},
   "outputs": [],
   "source": [
    "#Add a pipeline\n",
    "model =  RandomForestClassifier(n_jobs=-1)\n",
    "pipe_model = LogisticRegression(max_iter=1000, solver=\"saga\")\n",
    "rfecv = RFECV(\n",
    "    estimator=pipe_model,\n",
    "    step=1,\n",
    "    cv=3,\n",
    "    scoring=\"r2\",\n",
    "    min_features_to_select=10\n",
    ")\n",
    "\n",
    "\n",
    "pipeline_steps = [('pre', preprocessor), (\"fs\", rfecv), ('model', model)]\n",
    "pipe = Pipeline(pipeline_steps)\n",
    "\n",
    "pipe.fit(X_train, y_train)\n",
    "\n",
    "y_pred = pipe.predict(X_test)\n",
    "print('Testing score:', pipe.score(X_test, y_test))\n",
    "print('RMSE: {:.2f}'.format(np.sqrt(mean_squared_error(y_test, y_pred))))\n",
    "print(\"Optimal number of features : %d\" % rfecv.n_features_)"
   ]
  },
  {
   "attachments": {},
   "cell_type": "markdown",
   "metadata": {},
   "source": [
    "# Answers and Explanations\n",
    "The data needed a lot of cleaning before building a model. Some of the things I did were:\n",
    "    <li> Filter outliers\n",
    "    <li> Replaced some values\n",
    "    <li> Transformed columns and imputed data to handle missing values\n",
    "\n",
    "### Results\n",
    "I tried building the following models:\n",
    "    <li> Lasso, Ridge and ElasticNet Regressors, which really did not give good results.\n",
    "    <li> SGD Regressor was also not great.\n",
    "    <li> Finally, a RandomForest Regressor which gave a promising training R2 score of 0.89. A training RMSE was 11723.99 and the model did fair I would say.\n",
    "         But the model did not generate a good R2 and RMSE when tested on the testing dataset. The model maybe overfitted and needed some more tuning. Or perhaps more data preparation and cleaning.\n",
    "\n",
    "### Feature Selection Activities\n",
    "I tried using RFECV to get the optimal number of features for the model. The code seemed to be working but it was taking a while to produce the output. In the end, I did not wait and was not able to get the results. =( \n",
    "\n",
    "### Hyperparameter Changes\n",
    "Since the RandomForest gave the best results among the models I tried, I tried Gridsearch CV to look for the best parameters to tune the model. I looked for the best number of tree depth, number of estimators and number of features. After getting the best parameters, the testing R2 and RMSE did not change much. "
   ]
  }
 ],
 "metadata": {
  "kernelspec": {
   "display_name": "3450-Clone",
   "language": "python",
   "name": "python3"
  },
  "language_info": {
   "codemirror_mode": {
    "name": "ipython",
    "version": 3
   },
   "file_extension": ".py",
   "mimetype": "text/x-python",
   "name": "python",
   "nbconvert_exporter": "python",
   "pygments_lexer": "ipython3",
   "version": "3.9.12"
  },
  "orig_nbformat": 4,
  "vscode": {
   "interpreter": {
    "hash": "c5ad9fb12bc44735663563e694b426112a70950f4c37a8ff4e37a7ae7beac62e"
   }
  }
 },
 "nbformat": 4,
 "nbformat_minor": 2
}
